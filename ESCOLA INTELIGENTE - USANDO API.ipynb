{
 "cells": [
  {
   "cell_type": "markdown",
   "metadata": {},
   "source": [
    "# Análise dos Dados do Escola Inteligente\n",
    "### Consulta via API\n",
    "##### Fonte: http://educacao.dadosabertosbr.com/api/escolas/buscaavancada?situacaoFuncionamento=1&energiaInexistente=on&aguaInexistente=on&esgotoInexistente=on&cozinha=on"
   ]
  },
  {
   "cell_type": "code",
   "execution_count": 1,
   "metadata": {},
   "outputs": [],
   "source": [
    "# Importando as Bibliotecas\n",
    "\n",
    "import pandas as pd\n",
    "import requests as rq\n",
    "\n",
    "# URL de Acesso\n",
    "\n",
    "url = ('http://educacao.dadosabertosbr.com/api/escolas/buscaavancada?situacaoFuncionamento=1&energiaInexistente=on&aguaInexistente=on&esgotoInexistente=on&cozinha=on')"
   ]
  },
  {
   "cell_type": "code",
   "execution_count": 2,
   "metadata": {},
   "outputs": [],
   "source": [
    "# Requisitando os Dados da API\n",
    "\n",
    "resposta = rq.get(url)"
   ]
  },
  {
   "cell_type": "code",
   "execution_count": 3,
   "metadata": {},
   "outputs": [],
   "source": [
    "df = pd.DataFrame(resposta.json()[1])"
   ]
  },
  {
   "cell_type": "code",
   "execution_count": 4,
   "metadata": {},
   "outputs": [
    {
     "data": {
      "text/html": [
       "<div>\n",
       "<style scoped>\n",
       "    .dataframe tbody tr th:only-of-type {\n",
       "        vertical-align: middle;\n",
       "    }\n",
       "\n",
       "    .dataframe tbody tr th {\n",
       "        vertical-align: top;\n",
       "    }\n",
       "\n",
       "    .dataframe thead th {\n",
       "        text-align: right;\n",
       "    }\n",
       "</style>\n",
       "<table border=\"1\" class=\"dataframe\">\n",
       "  <thead>\n",
       "    <tr style=\"text-align: right;\">\n",
       "      <th></th>\n",
       "      <th>anoCenso</th>\n",
       "      <th>cod</th>\n",
       "      <th>nome</th>\n",
       "      <th>codCidade</th>\n",
       "      <th>cidade</th>\n",
       "      <th>estado</th>\n",
       "      <th>regiao</th>\n",
       "      <th>situacaoFuncionamento</th>\n",
       "      <th>dependenciaAdministrativa</th>\n",
       "      <th>idebAI</th>\n",
       "      <th>idebAF</th>\n",
       "      <th>enemMediaGeral</th>\n",
       "      <th>situacaoFuncionamentoTxt</th>\n",
       "      <th>dependenciaAdministrativaTxt</th>\n",
       "    </tr>\n",
       "  </thead>\n",
       "  <tbody>\n",
       "    <tr>\n",
       "      <th>0</th>\n",
       "      <td>2013</td>\n",
       "      <td>41036026</td>\n",
       "      <td>BAIRRO DOS MENDES E R M EF</td>\n",
       "      <td>4104402</td>\n",
       "      <td>CANDIDO DE ABREU</td>\n",
       "      <td>PR</td>\n",
       "      <td>Sul</td>\n",
       "      <td>1</td>\n",
       "      <td>3</td>\n",
       "      <td>0.0</td>\n",
       "      <td>0.0</td>\n",
       "      <td>0.0</td>\n",
       "      <td>Em atividade</td>\n",
       "      <td>Municipal</td>\n",
       "    </tr>\n",
       "    <tr>\n",
       "      <th>1</th>\n",
       "      <td>2013</td>\n",
       "      <td>15008258</td>\n",
       "      <td>E M E F AGUA AZUL</td>\n",
       "      <td>1504802</td>\n",
       "      <td>MONTE ALEGRE</td>\n",
       "      <td>PA</td>\n",
       "      <td>Norte</td>\n",
       "      <td>1</td>\n",
       "      <td>3</td>\n",
       "      <td>0.0</td>\n",
       "      <td>0.0</td>\n",
       "      <td>0.0</td>\n",
       "      <td>Em atividade</td>\n",
       "      <td>Municipal</td>\n",
       "    </tr>\n",
       "    <tr>\n",
       "      <th>2</th>\n",
       "      <td>2013</td>\n",
       "      <td>15534340</td>\n",
       "      <td>E M E F AGUA BOA</td>\n",
       "      <td>1505650</td>\n",
       "      <td>PLACAS</td>\n",
       "      <td>PA</td>\n",
       "      <td>Norte</td>\n",
       "      <td>1</td>\n",
       "      <td>3</td>\n",
       "      <td>0.0</td>\n",
       "      <td>0.0</td>\n",
       "      <td>0.0</td>\n",
       "      <td>Em atividade</td>\n",
       "      <td>Municipal</td>\n",
       "    </tr>\n",
       "    <tr>\n",
       "      <th>3</th>\n",
       "      <td>2013</td>\n",
       "      <td>15525821</td>\n",
       "      <td>E M E F AMAZONIA</td>\n",
       "      <td>1505064</td>\n",
       "      <td>NOVO REPARTIMENTO</td>\n",
       "      <td>PA</td>\n",
       "      <td>Norte</td>\n",
       "      <td>1</td>\n",
       "      <td>3</td>\n",
       "      <td>0.0</td>\n",
       "      <td>0.0</td>\n",
       "      <td>0.0</td>\n",
       "      <td>Em atividade</td>\n",
       "      <td>Municipal</td>\n",
       "    </tr>\n",
       "    <tr>\n",
       "      <th>4</th>\n",
       "      <td>2013</td>\n",
       "      <td>15022790</td>\n",
       "      <td>E M E F AMELIA HOLANDA</td>\n",
       "      <td>1500305</td>\n",
       "      <td>AFUA</td>\n",
       "      <td>PA</td>\n",
       "      <td>Norte</td>\n",
       "      <td>1</td>\n",
       "      <td>3</td>\n",
       "      <td>0.0</td>\n",
       "      <td>0.0</td>\n",
       "      <td>0.0</td>\n",
       "      <td>Em atividade</td>\n",
       "      <td>Municipal</td>\n",
       "    </tr>\n",
       "  </tbody>\n",
       "</table>\n",
       "</div>"
      ],
      "text/plain": [
       "   anoCenso       cod                        nome  codCidade  \\\n",
       "0      2013  41036026  BAIRRO DOS MENDES E R M EF    4104402   \n",
       "1      2013  15008258           E M E F AGUA AZUL    1504802   \n",
       "2      2013  15534340            E M E F AGUA BOA    1505650   \n",
       "3      2013  15525821            E M E F AMAZONIA    1505064   \n",
       "4      2013  15022790      E M E F AMELIA HOLANDA    1500305   \n",
       "\n",
       "              cidade estado regiao  situacaoFuncionamento  \\\n",
       "0   CANDIDO DE ABREU     PR    Sul                      1   \n",
       "1       MONTE ALEGRE     PA  Norte                      1   \n",
       "2             PLACAS     PA  Norte                      1   \n",
       "3  NOVO REPARTIMENTO     PA  Norte                      1   \n",
       "4               AFUA     PA  Norte                      1   \n",
       "\n",
       "   dependenciaAdministrativa  idebAI  idebAF  enemMediaGeral  \\\n",
       "0                          3     0.0     0.0             0.0   \n",
       "1                          3     0.0     0.0             0.0   \n",
       "2                          3     0.0     0.0             0.0   \n",
       "3                          3     0.0     0.0             0.0   \n",
       "4                          3     0.0     0.0             0.0   \n",
       "\n",
       "  situacaoFuncionamentoTxt dependenciaAdministrativaTxt  \n",
       "0             Em atividade                    Municipal  \n",
       "1             Em atividade                    Municipal  \n",
       "2             Em atividade                    Municipal  \n",
       "3             Em atividade                    Municipal  \n",
       "4             Em atividade                    Municipal  "
      ]
     },
     "execution_count": 4,
     "metadata": {},
     "output_type": "execute_result"
    }
   ],
   "source": [
    "df.head()"
   ]
  },
  {
   "cell_type": "code",
   "execution_count": 5,
   "metadata": {},
   "outputs": [
    {
     "data": {
      "text/plain": [
       "Index(['anoCenso', 'cod', 'nome', 'codCidade', 'cidade', 'estado', 'regiao',\n",
       "       'situacaoFuncionamento', 'dependenciaAdministrativa', 'idebAI',\n",
       "       'idebAF', 'enemMediaGeral', 'situacaoFuncionamentoTxt',\n",
       "       'dependenciaAdministrativaTxt'],\n",
       "      dtype='object')"
      ]
     },
     "execution_count": 5,
     "metadata": {},
     "output_type": "execute_result"
    }
   ],
   "source": [
    "df.columns"
   ]
  },
  {
   "cell_type": "code",
   "execution_count": 6,
   "metadata": {},
   "outputs": [],
   "source": [
    "df.columns = ['CENSO', 'COD', 'ESCOLA', 'COD_CIDADE', 'CIDADE', 'UF', 'REGIÃO', 'FUNCIONAMENTO', 'DEPENDÊNCIA ADM', 'IDEB AI', 'IDEB AF', 'ENEM MÉDIA GERAL', 'SITUAÇÃO', 'DEPENDÊNCIA ADM TXT']"
   ]
  },
  {
   "cell_type": "code",
   "execution_count": 7,
   "metadata": {},
   "outputs": [
    {
     "data": {
      "text/html": [
       "<div>\n",
       "<style scoped>\n",
       "    .dataframe tbody tr th:only-of-type {\n",
       "        vertical-align: middle;\n",
       "    }\n",
       "\n",
       "    .dataframe tbody tr th {\n",
       "        vertical-align: top;\n",
       "    }\n",
       "\n",
       "    .dataframe thead th {\n",
       "        text-align: right;\n",
       "    }\n",
       "</style>\n",
       "<table border=\"1\" class=\"dataframe\">\n",
       "  <thead>\n",
       "    <tr style=\"text-align: right;\">\n",
       "      <th></th>\n",
       "      <th>CENSO</th>\n",
       "      <th>COD</th>\n",
       "      <th>ESCOLA</th>\n",
       "      <th>COD_CIDADE</th>\n",
       "      <th>CIDADE</th>\n",
       "      <th>UF</th>\n",
       "      <th>REGIÃO</th>\n",
       "      <th>FUNCIONAMENTO</th>\n",
       "      <th>DEPENDÊNCIA ADM</th>\n",
       "      <th>IDEB AI</th>\n",
       "      <th>IDEB AF</th>\n",
       "      <th>ENEM MÉDIA GERAL</th>\n",
       "      <th>SITUAÇÃO</th>\n",
       "      <th>DEPENDÊNCIA ADM TXT</th>\n",
       "    </tr>\n",
       "  </thead>\n",
       "  <tbody>\n",
       "    <tr>\n",
       "      <th>0</th>\n",
       "      <td>2013</td>\n",
       "      <td>41036026</td>\n",
       "      <td>BAIRRO DOS MENDES E R M EF</td>\n",
       "      <td>4104402</td>\n",
       "      <td>CANDIDO DE ABREU</td>\n",
       "      <td>PR</td>\n",
       "      <td>Sul</td>\n",
       "      <td>1</td>\n",
       "      <td>3</td>\n",
       "      <td>0.0</td>\n",
       "      <td>0.0</td>\n",
       "      <td>0.0</td>\n",
       "      <td>Em atividade</td>\n",
       "      <td>Municipal</td>\n",
       "    </tr>\n",
       "    <tr>\n",
       "      <th>1</th>\n",
       "      <td>2013</td>\n",
       "      <td>15008258</td>\n",
       "      <td>E M E F AGUA AZUL</td>\n",
       "      <td>1504802</td>\n",
       "      <td>MONTE ALEGRE</td>\n",
       "      <td>PA</td>\n",
       "      <td>Norte</td>\n",
       "      <td>1</td>\n",
       "      <td>3</td>\n",
       "      <td>0.0</td>\n",
       "      <td>0.0</td>\n",
       "      <td>0.0</td>\n",
       "      <td>Em atividade</td>\n",
       "      <td>Municipal</td>\n",
       "    </tr>\n",
       "    <tr>\n",
       "      <th>2</th>\n",
       "      <td>2013</td>\n",
       "      <td>15534340</td>\n",
       "      <td>E M E F AGUA BOA</td>\n",
       "      <td>1505650</td>\n",
       "      <td>PLACAS</td>\n",
       "      <td>PA</td>\n",
       "      <td>Norte</td>\n",
       "      <td>1</td>\n",
       "      <td>3</td>\n",
       "      <td>0.0</td>\n",
       "      <td>0.0</td>\n",
       "      <td>0.0</td>\n",
       "      <td>Em atividade</td>\n",
       "      <td>Municipal</td>\n",
       "    </tr>\n",
       "    <tr>\n",
       "      <th>3</th>\n",
       "      <td>2013</td>\n",
       "      <td>15525821</td>\n",
       "      <td>E M E F AMAZONIA</td>\n",
       "      <td>1505064</td>\n",
       "      <td>NOVO REPARTIMENTO</td>\n",
       "      <td>PA</td>\n",
       "      <td>Norte</td>\n",
       "      <td>1</td>\n",
       "      <td>3</td>\n",
       "      <td>0.0</td>\n",
       "      <td>0.0</td>\n",
       "      <td>0.0</td>\n",
       "      <td>Em atividade</td>\n",
       "      <td>Municipal</td>\n",
       "    </tr>\n",
       "    <tr>\n",
       "      <th>4</th>\n",
       "      <td>2013</td>\n",
       "      <td>15022790</td>\n",
       "      <td>E M E F AMELIA HOLANDA</td>\n",
       "      <td>1500305</td>\n",
       "      <td>AFUA</td>\n",
       "      <td>PA</td>\n",
       "      <td>Norte</td>\n",
       "      <td>1</td>\n",
       "      <td>3</td>\n",
       "      <td>0.0</td>\n",
       "      <td>0.0</td>\n",
       "      <td>0.0</td>\n",
       "      <td>Em atividade</td>\n",
       "      <td>Municipal</td>\n",
       "    </tr>\n",
       "  </tbody>\n",
       "</table>\n",
       "</div>"
      ],
      "text/plain": [
       "   CENSO       COD                      ESCOLA  COD_CIDADE             CIDADE  \\\n",
       "0   2013  41036026  BAIRRO DOS MENDES E R M EF     4104402   CANDIDO DE ABREU   \n",
       "1   2013  15008258           E M E F AGUA AZUL     1504802       MONTE ALEGRE   \n",
       "2   2013  15534340            E M E F AGUA BOA     1505650             PLACAS   \n",
       "3   2013  15525821            E M E F AMAZONIA     1505064  NOVO REPARTIMENTO   \n",
       "4   2013  15022790      E M E F AMELIA HOLANDA     1500305               AFUA   \n",
       "\n",
       "   UF REGIÃO  FUNCIONAMENTO  DEPENDÊNCIA ADM  IDEB AI  IDEB AF  \\\n",
       "0  PR    Sul              1                3      0.0      0.0   \n",
       "1  PA  Norte              1                3      0.0      0.0   \n",
       "2  PA  Norte              1                3      0.0      0.0   \n",
       "3  PA  Norte              1                3      0.0      0.0   \n",
       "4  PA  Norte              1                3      0.0      0.0   \n",
       "\n",
       "   ENEM MÉDIA GERAL      SITUAÇÃO DEPENDÊNCIA ADM TXT  \n",
       "0               0.0  Em atividade           Municipal  \n",
       "1               0.0  Em atividade           Municipal  \n",
       "2               0.0  Em atividade           Municipal  \n",
       "3               0.0  Em atividade           Municipal  \n",
       "4               0.0  Em atividade           Municipal  "
      ]
     },
     "execution_count": 7,
     "metadata": {},
     "output_type": "execute_result"
    }
   ],
   "source": [
    "df.head()"
   ]
  },
  {
   "cell_type": "code",
   "execution_count": 9,
   "metadata": {},
   "outputs": [
    {
     "data": {
      "text/plain": [
       "(100, 14)"
      ]
     },
     "execution_count": 9,
     "metadata": {},
     "output_type": "execute_result"
    }
   ],
   "source": [
    "#Tamanho do DataFrame\n",
    "\n",
    "# 100 Linhas e 14 Colunas\n",
    "\n",
    "df.shape"
   ]
  },
  {
   "cell_type": "code",
   "execution_count": 11,
   "metadata": {},
   "outputs": [
    {
     "data": {
      "text/plain": [
       "PA    99\n",
       "PR     1\n",
       "Name: UF, dtype: int64"
      ]
     },
     "execution_count": 11,
     "metadata": {},
     "output_type": "execute_result"
    }
   ],
   "source": [
    "df['UF'].value_counts()"
   ]
  },
  {
   "cell_type": "code",
   "execution_count": 13,
   "metadata": {},
   "outputs": [
    {
     "data": {
      "text/plain": [
       "Municipal    100\n",
       "Name: DEPENDÊNCIA ADM TXT, dtype: int64"
      ]
     },
     "execution_count": 13,
     "metadata": {},
     "output_type": "execute_result"
    }
   ],
   "source": [
    "df['DEPENDÊNCIA ADM TXT'].value_counts()"
   ]
  },
  {
   "cell_type": "code",
   "execution_count": 14,
   "metadata": {},
   "outputs": [
    {
     "data": {
      "text/plain": [
       "SAO DOMINGOS DO CAPIM         13\n",
       "MONTE ALEGRE                  12\n",
       "VISEU                         10\n",
       "RUROPOLIS                      7\n",
       "CAMETA                         4\n",
       "AFUA                           4\n",
       "URUARA                         4\n",
       "MOJU                           4\n",
       "CACHOEIRA DO ARARI             3\n",
       "MUANA                          3\n",
       "SAO FELIX DO XINGU             3\n",
       "NOVO REPARTIMENTO              3\n",
       "IPIXUNA DO PARA                3\n",
       "OBIDOS                         3\n",
       "CHAVES                         2\n",
       "PACAJA                         2\n",
       "OEIRAS DO PARA                 2\n",
       "SANTA CRUZ DO ARARI            2\n",
       "TERRA SANTA                    2\n",
       "ACARA                          2\n",
       "SAO DOMINGOS DO ARAGUAIA       1\n",
       "ANAJAS                         1\n",
       "PORTEL                         1\n",
       "PRAINHA                        1\n",
       "PLACAS                         1\n",
       "GARRAFAO DO NORTE              1\n",
       "FARO                           1\n",
       "AURORA DO PARA                 1\n",
       "SAO SEBASTIAO DA BOA VISTA     1\n",
       "NOVA ESPERANCA DO PIRIA        1\n",
       "ANAPU                          1\n",
       "CANDIDO DE ABREU               1\n",
       "Name: CIDADE, dtype: int64"
      ]
     },
     "execution_count": 14,
     "metadata": {},
     "output_type": "execute_result"
    }
   ],
   "source": [
    "df['CIDADE'].value_counts()"
   ]
  },
  {
   "cell_type": "code",
   "execution_count": null,
   "metadata": {},
   "outputs": [],
   "source": []
  }
 ],
 "metadata": {
  "kernelspec": {
   "display_name": "Python 3",
   "language": "python",
   "name": "python3"
  },
  "language_info": {
   "codemirror_mode": {
    "name": "ipython",
    "version": 3
   },
   "file_extension": ".py",
   "mimetype": "text/x-python",
   "name": "python",
   "nbconvert_exporter": "python",
   "pygments_lexer": "ipython3",
   "version": "3.7.4"
  }
 },
 "nbformat": 4,
 "nbformat_minor": 2
}
